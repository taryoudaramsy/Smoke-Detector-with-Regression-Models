{
 "cells": [
  {
   "cell_type": "markdown",
   "id": "4f33dc9c",
   "metadata": {},
   "source": [
    "### Smoke Detector Project\n",
    "\n",
    "A smoke detector is a gadget that detects smoke and sounds an alarm to warn others. They are mainly found in offices, homes, and factories. Smoke detectors are classified into two types:\n",
    "\n",
    "Photoelectric Smoke Detector - This sort of detector has an infrared, ultraviolet, and visible light source, as well as a sensor. It measures light intensity and triggers an alert if it falls below a certain threshold value, because light intensity diminishes in the presence of dust particles, smoke, and so on.\n",
    "\n",
    "Ionization Smoke Detector - This sort of detector has an electronic circuit that monitors the current difference and sounds an alert if it is discovered to be greater than a certain threshold. Because the ions will be unable to travel freely owing to smoke and duct particles, the current in the circuit will drop.\n",
    "\n",
    "Our goal is to create an AI model utilising the provided dataset that will correctly trigger an alert if smoke is detected. We will evaluate the accuracy of ten regression models and depict them in attractive graphs before selecting the best of them."
   ]
  },
  {
   "attachments": {},
   "cell_type": "markdown",
   "id": "3ecbd5cd",
   "metadata": {},
   "source": [
    "#### Feature Description\n",
    "\n",
    "- UTC - The time when experiment was performed.\n",
    "- Temperature - Temperature of Surroundings. Measured in Celsius\n",
    "- Humidity - The air humidity during the experiment.\n",
    "- TVOC - Total Volatile Organic Compounds. Measured in ppb (parts per billion)\n",
    "- eCo2 - CO2 equivalent concentration. Measured in ppm (parts per million)\n",
    "- Raw H2 - The amount of Raw Hydrogen present in the surroundings.\n",
    "- Raw Ethanol - The amount of Raw Ethanol present in the surroundings.\n",
    "- Pressure - Air pressure. Measured in hPa\n",
    "- PM1.0 - Paticulate matter of diameter less than 1.0 micrometer .\n",
    "- PM2.5 - Paticulate matter of diameter less than 2.5 micrometer.\n",
    "- NC0.5 - Concentration of particulate matter of diameter less than 0.5 micrometers.\n",
    "- NC1.0 - Concentration of particulate matter of diameter less than 1.0 micrometers.\n",
    "- NC2.5 - Concentration of particulate matter of diameter less than 2.5 micrometers.\n",
    "- CNT - Simple Count.\n",
    "- Fire Alarm - (Reality) If fire was present then value is 1 else it is 0."
   ]
  },
  {
   "cell_type": "markdown",
   "id": "462b74bf",
   "metadata": {},
   "source": [
    "##### Import Libraries"
   ]
  },
  {
   "cell_type": "code",
   "execution_count": 714,
   "id": "b538e8d0",
   "metadata": {},
   "outputs": [],
   "source": [
    "#import pandas and numpy for data manipulation\n",
    "import pandas as pd\n",
    "import numpy as np\n",
    "#import pyplot and seaborn for visualization\n",
    "import matplotlib.pyplot as plt\n",
    "import scikitplot as skplt\n",
    "from sklearn.preprocessing import LabelEncoder\n",
    "from sklearn import model_selection\n",
    "from sklearn import preprocessing\n",
    "from sklearn.calibration import calibration_curve\n",
    "%matplotlib inline\n",
    "import seaborn as sns\n",
    "from sklearn.preprocessing import MinMaxScaler\n",
    "\n",
    "import tabulate\n",
    "from tabulate import tabulate\n",
    "import time\n",
    "from sklearn.datasets import  load_iris"
   ]
  },
  {
   "cell_type": "code",
   "execution_count": 715,
   "id": "396ce106",
   "metadata": {},
   "outputs": [],
   "source": [
    "data = pd.read_csv('smoke_detection_iot.csv', index_col = False)"
   ]
  },
  {
   "cell_type": "code",
   "execution_count": 716,
   "id": "72695d00",
   "metadata": {},
   "outputs": [
    {
     "data": {
      "text/html": [
       "<div>\n",
       "<style scoped>\n",
       "    .dataframe tbody tr th:only-of-type {\n",
       "        vertical-align: middle;\n",
       "    }\n",
       "\n",
       "    .dataframe tbody tr th {\n",
       "        vertical-align: top;\n",
       "    }\n",
       "\n",
       "    .dataframe thead th {\n",
       "        text-align: right;\n",
       "    }\n",
       "</style>\n",
       "<table border=\"1\" class=\"dataframe\">\n",
       "  <thead>\n",
       "    <tr style=\"text-align: right;\">\n",
       "      <th></th>\n",
       "      <th>Unnamed: 0</th>\n",
       "      <th>UTC</th>\n",
       "      <th>Temperature[C]</th>\n",
       "      <th>Humidity[%]</th>\n",
       "      <th>TVOC[ppb]</th>\n",
       "      <th>eCO2[ppm]</th>\n",
       "      <th>Raw H2</th>\n",
       "      <th>Raw Ethanol</th>\n",
       "      <th>Pressure[hPa]</th>\n",
       "      <th>PM1.0</th>\n",
       "      <th>PM2.5</th>\n",
       "      <th>NC0.5</th>\n",
       "      <th>NC1.0</th>\n",
       "      <th>NC2.5</th>\n",
       "      <th>CNT</th>\n",
       "      <th>Fire Alarm</th>\n",
       "    </tr>\n",
       "  </thead>\n",
       "  <tbody>\n",
       "    <tr>\n",
       "      <th>0</th>\n",
       "      <td>0</td>\n",
       "      <td>1654733331</td>\n",
       "      <td>20.000</td>\n",
       "      <td>57.36</td>\n",
       "      <td>0</td>\n",
       "      <td>400</td>\n",
       "      <td>12306</td>\n",
       "      <td>18520</td>\n",
       "      <td>939.735</td>\n",
       "      <td>0.0</td>\n",
       "      <td>0.0</td>\n",
       "      <td>0.0</td>\n",
       "      <td>0.0</td>\n",
       "      <td>0.0</td>\n",
       "      <td>0</td>\n",
       "      <td>0</td>\n",
       "    </tr>\n",
       "    <tr>\n",
       "      <th>1</th>\n",
       "      <td>1</td>\n",
       "      <td>1654733332</td>\n",
       "      <td>20.015</td>\n",
       "      <td>56.67</td>\n",
       "      <td>0</td>\n",
       "      <td>400</td>\n",
       "      <td>12345</td>\n",
       "      <td>18651</td>\n",
       "      <td>939.744</td>\n",
       "      <td>0.0</td>\n",
       "      <td>0.0</td>\n",
       "      <td>0.0</td>\n",
       "      <td>0.0</td>\n",
       "      <td>0.0</td>\n",
       "      <td>1</td>\n",
       "      <td>0</td>\n",
       "    </tr>\n",
       "    <tr>\n",
       "      <th>2</th>\n",
       "      <td>2</td>\n",
       "      <td>1654733333</td>\n",
       "      <td>20.029</td>\n",
       "      <td>55.96</td>\n",
       "      <td>0</td>\n",
       "      <td>400</td>\n",
       "      <td>12374</td>\n",
       "      <td>18764</td>\n",
       "      <td>939.738</td>\n",
       "      <td>0.0</td>\n",
       "      <td>0.0</td>\n",
       "      <td>0.0</td>\n",
       "      <td>0.0</td>\n",
       "      <td>0.0</td>\n",
       "      <td>2</td>\n",
       "      <td>0</td>\n",
       "    </tr>\n",
       "    <tr>\n",
       "      <th>3</th>\n",
       "      <td>3</td>\n",
       "      <td>1654733334</td>\n",
       "      <td>20.044</td>\n",
       "      <td>55.28</td>\n",
       "      <td>0</td>\n",
       "      <td>400</td>\n",
       "      <td>12390</td>\n",
       "      <td>18849</td>\n",
       "      <td>939.736</td>\n",
       "      <td>0.0</td>\n",
       "      <td>0.0</td>\n",
       "      <td>0.0</td>\n",
       "      <td>0.0</td>\n",
       "      <td>0.0</td>\n",
       "      <td>3</td>\n",
       "      <td>0</td>\n",
       "    </tr>\n",
       "    <tr>\n",
       "      <th>4</th>\n",
       "      <td>4</td>\n",
       "      <td>1654733335</td>\n",
       "      <td>20.059</td>\n",
       "      <td>54.69</td>\n",
       "      <td>0</td>\n",
       "      <td>400</td>\n",
       "      <td>12403</td>\n",
       "      <td>18921</td>\n",
       "      <td>939.744</td>\n",
       "      <td>0.0</td>\n",
       "      <td>0.0</td>\n",
       "      <td>0.0</td>\n",
       "      <td>0.0</td>\n",
       "      <td>0.0</td>\n",
       "      <td>4</td>\n",
       "      <td>0</td>\n",
       "    </tr>\n",
       "  </tbody>\n",
       "</table>\n",
       "</div>"
      ],
      "text/plain": [
       "   Unnamed: 0         UTC  Temperature[C]  Humidity[%]  TVOC[ppb]  eCO2[ppm]  \\\n",
       "0           0  1654733331          20.000        57.36          0        400   \n",
       "1           1  1654733332          20.015        56.67          0        400   \n",
       "2           2  1654733333          20.029        55.96          0        400   \n",
       "3           3  1654733334          20.044        55.28          0        400   \n",
       "4           4  1654733335          20.059        54.69          0        400   \n",
       "\n",
       "   Raw H2  Raw Ethanol  Pressure[hPa]  PM1.0  PM2.5  NC0.5  NC1.0  NC2.5  CNT  \\\n",
       "0   12306        18520        939.735    0.0    0.0    0.0    0.0    0.0    0   \n",
       "1   12345        18651        939.744    0.0    0.0    0.0    0.0    0.0    1   \n",
       "2   12374        18764        939.738    0.0    0.0    0.0    0.0    0.0    2   \n",
       "3   12390        18849        939.736    0.0    0.0    0.0    0.0    0.0    3   \n",
       "4   12403        18921        939.744    0.0    0.0    0.0    0.0    0.0    4   \n",
       "\n",
       "   Fire Alarm  \n",
       "0           0  \n",
       "1           0  \n",
       "2           0  \n",
       "3           0  \n",
       "4           0  "
      ]
     },
     "execution_count": 716,
     "metadata": {},
     "output_type": "execute_result"
    }
   ],
   "source": [
    "data.head()"
   ]
  },
  {
   "cell_type": "code",
   "execution_count": 717,
   "id": "52ada0e6",
   "metadata": {},
   "outputs": [
    {
     "data": {
      "text/html": [
       "<div>\n",
       "<style scoped>\n",
       "    .dataframe tbody tr th:only-of-type {\n",
       "        vertical-align: middle;\n",
       "    }\n",
       "\n",
       "    .dataframe tbody tr th {\n",
       "        vertical-align: top;\n",
       "    }\n",
       "\n",
       "    .dataframe thead th {\n",
       "        text-align: right;\n",
       "    }\n",
       "</style>\n",
       "<table border=\"1\" class=\"dataframe\">\n",
       "  <thead>\n",
       "    <tr style=\"text-align: right;\">\n",
       "      <th></th>\n",
       "      <th>Unnamed: 0</th>\n",
       "      <th>UTC</th>\n",
       "      <th>Temperature[C]</th>\n",
       "      <th>Humidity[%]</th>\n",
       "      <th>TVOC[ppb]</th>\n",
       "      <th>eCO2[ppm]</th>\n",
       "      <th>Raw H2</th>\n",
       "      <th>Raw Ethanol</th>\n",
       "      <th>Pressure[hPa]</th>\n",
       "      <th>PM1.0</th>\n",
       "      <th>PM2.5</th>\n",
       "      <th>NC0.5</th>\n",
       "      <th>NC1.0</th>\n",
       "      <th>NC2.5</th>\n",
       "      <th>CNT</th>\n",
       "      <th>Fire Alarm</th>\n",
       "    </tr>\n",
       "  </thead>\n",
       "  <tbody>\n",
       "    <tr>\n",
       "      <th>62625</th>\n",
       "      <td>62625</td>\n",
       "      <td>1655130047</td>\n",
       "      <td>18.438</td>\n",
       "      <td>15.79</td>\n",
       "      <td>625</td>\n",
       "      <td>400</td>\n",
       "      <td>13723</td>\n",
       "      <td>20569</td>\n",
       "      <td>936.670</td>\n",
       "      <td>0.63</td>\n",
       "      <td>0.65</td>\n",
       "      <td>4.32</td>\n",
       "      <td>0.673</td>\n",
       "      <td>0.015</td>\n",
       "      <td>5739</td>\n",
       "      <td>0</td>\n",
       "    </tr>\n",
       "    <tr>\n",
       "      <th>62626</th>\n",
       "      <td>62626</td>\n",
       "      <td>1655130048</td>\n",
       "      <td>18.653</td>\n",
       "      <td>15.87</td>\n",
       "      <td>612</td>\n",
       "      <td>400</td>\n",
       "      <td>13731</td>\n",
       "      <td>20588</td>\n",
       "      <td>936.678</td>\n",
       "      <td>0.61</td>\n",
       "      <td>0.63</td>\n",
       "      <td>4.18</td>\n",
       "      <td>0.652</td>\n",
       "      <td>0.015</td>\n",
       "      <td>5740</td>\n",
       "      <td>0</td>\n",
       "    </tr>\n",
       "    <tr>\n",
       "      <th>62627</th>\n",
       "      <td>62627</td>\n",
       "      <td>1655130049</td>\n",
       "      <td>18.867</td>\n",
       "      <td>15.84</td>\n",
       "      <td>627</td>\n",
       "      <td>400</td>\n",
       "      <td>13725</td>\n",
       "      <td>20582</td>\n",
       "      <td>936.687</td>\n",
       "      <td>0.57</td>\n",
       "      <td>0.60</td>\n",
       "      <td>3.95</td>\n",
       "      <td>0.617</td>\n",
       "      <td>0.014</td>\n",
       "      <td>5741</td>\n",
       "      <td>0</td>\n",
       "    </tr>\n",
       "    <tr>\n",
       "      <th>62628</th>\n",
       "      <td>62628</td>\n",
       "      <td>1655130050</td>\n",
       "      <td>19.083</td>\n",
       "      <td>16.04</td>\n",
       "      <td>638</td>\n",
       "      <td>400</td>\n",
       "      <td>13712</td>\n",
       "      <td>20566</td>\n",
       "      <td>936.680</td>\n",
       "      <td>0.57</td>\n",
       "      <td>0.59</td>\n",
       "      <td>3.92</td>\n",
       "      <td>0.611</td>\n",
       "      <td>0.014</td>\n",
       "      <td>5742</td>\n",
       "      <td>0</td>\n",
       "    </tr>\n",
       "    <tr>\n",
       "      <th>62629</th>\n",
       "      <td>62629</td>\n",
       "      <td>1655130051</td>\n",
       "      <td>19.299</td>\n",
       "      <td>16.52</td>\n",
       "      <td>643</td>\n",
       "      <td>400</td>\n",
       "      <td>13696</td>\n",
       "      <td>20543</td>\n",
       "      <td>936.676</td>\n",
       "      <td>0.57</td>\n",
       "      <td>0.59</td>\n",
       "      <td>3.90</td>\n",
       "      <td>0.607</td>\n",
       "      <td>0.014</td>\n",
       "      <td>5743</td>\n",
       "      <td>0</td>\n",
       "    </tr>\n",
       "  </tbody>\n",
       "</table>\n",
       "</div>"
      ],
      "text/plain": [
       "       Unnamed: 0         UTC  Temperature[C]  Humidity[%]  TVOC[ppb]  \\\n",
       "62625       62625  1655130047          18.438        15.79        625   \n",
       "62626       62626  1655130048          18.653        15.87        612   \n",
       "62627       62627  1655130049          18.867        15.84        627   \n",
       "62628       62628  1655130050          19.083        16.04        638   \n",
       "62629       62629  1655130051          19.299        16.52        643   \n",
       "\n",
       "       eCO2[ppm]  Raw H2  Raw Ethanol  Pressure[hPa]  PM1.0  PM2.5  NC0.5  \\\n",
       "62625        400   13723        20569        936.670   0.63   0.65   4.32   \n",
       "62626        400   13731        20588        936.678   0.61   0.63   4.18   \n",
       "62627        400   13725        20582        936.687   0.57   0.60   3.95   \n",
       "62628        400   13712        20566        936.680   0.57   0.59   3.92   \n",
       "62629        400   13696        20543        936.676   0.57   0.59   3.90   \n",
       "\n",
       "       NC1.0  NC2.5   CNT  Fire Alarm  \n",
       "62625  0.673  0.015  5739           0  \n",
       "62626  0.652  0.015  5740           0  \n",
       "62627  0.617  0.014  5741           0  \n",
       "62628  0.611  0.014  5742           0  \n",
       "62629  0.607  0.014  5743           0  "
      ]
     },
     "execution_count": 717,
     "metadata": {},
     "output_type": "execute_result"
    }
   ],
   "source": [
    "data.tail()"
   ]
  },
  {
   "cell_type": "code",
   "execution_count": 718,
   "id": "292ebf50",
   "metadata": {
    "scrolled": false
   },
   "outputs": [
    {
     "name": "stdout",
     "output_type": "stream",
     "text": [
      "<class 'pandas.core.frame.DataFrame'>\n",
      "RangeIndex: 62630 entries, 0 to 62629\n",
      "Data columns (total 16 columns):\n",
      " #   Column          Non-Null Count  Dtype  \n",
      "---  ------          --------------  -----  \n",
      " 0   Unnamed: 0      62630 non-null  int64  \n",
      " 1   UTC             62630 non-null  int64  \n",
      " 2   Temperature[C]  62630 non-null  float64\n",
      " 3   Humidity[%]     62630 non-null  float64\n",
      " 4   TVOC[ppb]       62630 non-null  int64  \n",
      " 5   eCO2[ppm]       62630 non-null  int64  \n",
      " 6   Raw H2          62630 non-null  int64  \n",
      " 7   Raw Ethanol     62630 non-null  int64  \n",
      " 8   Pressure[hPa]   62630 non-null  float64\n",
      " 9   PM1.0           62630 non-null  float64\n",
      " 10  PM2.5           62630 non-null  float64\n",
      " 11  NC0.5           62630 non-null  float64\n",
      " 12  NC1.0           62630 non-null  float64\n",
      " 13  NC2.5           62630 non-null  float64\n",
      " 14  CNT             62630 non-null  int64  \n",
      " 15  Fire Alarm      62630 non-null  int64  \n",
      "dtypes: float64(8), int64(8)\n",
      "memory usage: 7.6 MB\n"
     ]
    }
   ],
   "source": [
    "data.info()"
   ]
  },
  {
   "cell_type": "code",
   "execution_count": 719,
   "id": "67e97ca1",
   "metadata": {},
   "outputs": [
    {
     "data": {
      "text/plain": [
       "(62630, 16)"
      ]
     },
     "execution_count": 719,
     "metadata": {},
     "output_type": "execute_result"
    }
   ],
   "source": [
    "data.shape"
   ]
  },
  {
   "cell_type": "code",
   "execution_count": 720,
   "id": "c2cb8820",
   "metadata": {
    "scrolled": true
   },
   "outputs": [
    {
     "data": {
      "text/plain": [
       "Index(['Unnamed: 0', 'UTC', 'Temperature[C]', 'Humidity[%]', 'TVOC[ppb]',\n",
       "       'eCO2[ppm]', 'Raw H2', 'Raw Ethanol', 'Pressure[hPa]', 'PM1.0', 'PM2.5',\n",
       "       'NC0.5', 'NC1.0', 'NC2.5', 'CNT', 'Fire Alarm'],\n",
       "      dtype='object')"
      ]
     },
     "execution_count": 720,
     "metadata": {},
     "output_type": "execute_result"
    }
   ],
   "source": [
    "data.columns"
   ]
  },
  {
   "cell_type": "code",
   "execution_count": 721,
   "id": "f090226c",
   "metadata": {
    "scrolled": true
   },
   "outputs": [
    {
     "data": {
      "text/html": [
       "<div>\n",
       "<style scoped>\n",
       "    .dataframe tbody tr th:only-of-type {\n",
       "        vertical-align: middle;\n",
       "    }\n",
       "\n",
       "    .dataframe tbody tr th {\n",
       "        vertical-align: top;\n",
       "    }\n",
       "\n",
       "    .dataframe thead th {\n",
       "        text-align: right;\n",
       "    }\n",
       "</style>\n",
       "<table border=\"1\" class=\"dataframe\">\n",
       "  <thead>\n",
       "    <tr style=\"text-align: right;\">\n",
       "      <th></th>\n",
       "      <th>Unnamed: 0</th>\n",
       "      <th>UTC</th>\n",
       "      <th>Temperature[C]</th>\n",
       "      <th>Humidity[%]</th>\n",
       "      <th>TVOC[ppb]</th>\n",
       "      <th>eCO2[ppm]</th>\n",
       "      <th>Raw H2</th>\n",
       "      <th>Raw Ethanol</th>\n",
       "      <th>Pressure[hPa]</th>\n",
       "      <th>PM1.0</th>\n",
       "      <th>PM2.5</th>\n",
       "      <th>NC0.5</th>\n",
       "      <th>NC1.0</th>\n",
       "      <th>NC2.5</th>\n",
       "      <th>CNT</th>\n",
       "      <th>Fire Alarm</th>\n",
       "    </tr>\n",
       "  </thead>\n",
       "  <tbody>\n",
       "    <tr>\n",
       "      <th>count</th>\n",
       "      <td>62630.000000</td>\n",
       "      <td>6.263000e+04</td>\n",
       "      <td>62630.000000</td>\n",
       "      <td>62630.000000</td>\n",
       "      <td>62630.000000</td>\n",
       "      <td>62630.000000</td>\n",
       "      <td>62630.000000</td>\n",
       "      <td>62630.000000</td>\n",
       "      <td>62630.000000</td>\n",
       "      <td>62630.000000</td>\n",
       "      <td>62630.000000</td>\n",
       "      <td>62630.000000</td>\n",
       "      <td>62630.000000</td>\n",
       "      <td>62630.000000</td>\n",
       "      <td>62630.000000</td>\n",
       "      <td>62630.000000</td>\n",
       "    </tr>\n",
       "    <tr>\n",
       "      <th>mean</th>\n",
       "      <td>31314.500000</td>\n",
       "      <td>1.654792e+09</td>\n",
       "      <td>15.970424</td>\n",
       "      <td>48.539499</td>\n",
       "      <td>1942.057528</td>\n",
       "      <td>670.021044</td>\n",
       "      <td>12942.453936</td>\n",
       "      <td>19754.257912</td>\n",
       "      <td>938.627649</td>\n",
       "      <td>100.594309</td>\n",
       "      <td>184.467770</td>\n",
       "      <td>491.463608</td>\n",
       "      <td>203.586487</td>\n",
       "      <td>80.049042</td>\n",
       "      <td>10511.386157</td>\n",
       "      <td>0.714626</td>\n",
       "    </tr>\n",
       "    <tr>\n",
       "      <th>std</th>\n",
       "      <td>18079.868017</td>\n",
       "      <td>1.100025e+05</td>\n",
       "      <td>14.359576</td>\n",
       "      <td>8.865367</td>\n",
       "      <td>7811.589055</td>\n",
       "      <td>1905.885439</td>\n",
       "      <td>272.464305</td>\n",
       "      <td>609.513156</td>\n",
       "      <td>1.331344</td>\n",
       "      <td>922.524245</td>\n",
       "      <td>1976.305615</td>\n",
       "      <td>4265.661251</td>\n",
       "      <td>2214.738556</td>\n",
       "      <td>1083.383189</td>\n",
       "      <td>7597.870997</td>\n",
       "      <td>0.451596</td>\n",
       "    </tr>\n",
       "    <tr>\n",
       "      <th>min</th>\n",
       "      <td>0.000000</td>\n",
       "      <td>1.654712e+09</td>\n",
       "      <td>-22.010000</td>\n",
       "      <td>10.740000</td>\n",
       "      <td>0.000000</td>\n",
       "      <td>400.000000</td>\n",
       "      <td>10668.000000</td>\n",
       "      <td>15317.000000</td>\n",
       "      <td>930.852000</td>\n",
       "      <td>0.000000</td>\n",
       "      <td>0.000000</td>\n",
       "      <td>0.000000</td>\n",
       "      <td>0.000000</td>\n",
       "      <td>0.000000</td>\n",
       "      <td>0.000000</td>\n",
       "      <td>0.000000</td>\n",
       "    </tr>\n",
       "    <tr>\n",
       "      <th>25%</th>\n",
       "      <td>15657.250000</td>\n",
       "      <td>1.654743e+09</td>\n",
       "      <td>10.994250</td>\n",
       "      <td>47.530000</td>\n",
       "      <td>130.000000</td>\n",
       "      <td>400.000000</td>\n",
       "      <td>12830.000000</td>\n",
       "      <td>19435.000000</td>\n",
       "      <td>938.700000</td>\n",
       "      <td>1.280000</td>\n",
       "      <td>1.340000</td>\n",
       "      <td>8.820000</td>\n",
       "      <td>1.384000</td>\n",
       "      <td>0.033000</td>\n",
       "      <td>3625.250000</td>\n",
       "      <td>0.000000</td>\n",
       "    </tr>\n",
       "    <tr>\n",
       "      <th>50%</th>\n",
       "      <td>31314.500000</td>\n",
       "      <td>1.654762e+09</td>\n",
       "      <td>20.130000</td>\n",
       "      <td>50.150000</td>\n",
       "      <td>981.000000</td>\n",
       "      <td>400.000000</td>\n",
       "      <td>12924.000000</td>\n",
       "      <td>19501.000000</td>\n",
       "      <td>938.816000</td>\n",
       "      <td>1.810000</td>\n",
       "      <td>1.880000</td>\n",
       "      <td>12.450000</td>\n",
       "      <td>1.943000</td>\n",
       "      <td>0.044000</td>\n",
       "      <td>9336.000000</td>\n",
       "      <td>1.000000</td>\n",
       "    </tr>\n",
       "    <tr>\n",
       "      <th>75%</th>\n",
       "      <td>46971.750000</td>\n",
       "      <td>1.654778e+09</td>\n",
       "      <td>25.409500</td>\n",
       "      <td>53.240000</td>\n",
       "      <td>1189.000000</td>\n",
       "      <td>438.000000</td>\n",
       "      <td>13109.000000</td>\n",
       "      <td>20078.000000</td>\n",
       "      <td>939.418000</td>\n",
       "      <td>2.090000</td>\n",
       "      <td>2.180000</td>\n",
       "      <td>14.420000</td>\n",
       "      <td>2.249000</td>\n",
       "      <td>0.051000</td>\n",
       "      <td>17164.750000</td>\n",
       "      <td>1.000000</td>\n",
       "    </tr>\n",
       "    <tr>\n",
       "      <th>max</th>\n",
       "      <td>62629.000000</td>\n",
       "      <td>1.655130e+09</td>\n",
       "      <td>59.930000</td>\n",
       "      <td>75.200000</td>\n",
       "      <td>60000.000000</td>\n",
       "      <td>60000.000000</td>\n",
       "      <td>13803.000000</td>\n",
       "      <td>21410.000000</td>\n",
       "      <td>939.861000</td>\n",
       "      <td>14333.690000</td>\n",
       "      <td>45432.260000</td>\n",
       "      <td>61482.030000</td>\n",
       "      <td>51914.680000</td>\n",
       "      <td>30026.438000</td>\n",
       "      <td>24993.000000</td>\n",
       "      <td>1.000000</td>\n",
       "    </tr>\n",
       "  </tbody>\n",
       "</table>\n",
       "</div>"
      ],
      "text/plain": [
       "         Unnamed: 0           UTC  Temperature[C]   Humidity[%]     TVOC[ppb]  \\\n",
       "count  62630.000000  6.263000e+04    62630.000000  62630.000000  62630.000000   \n",
       "mean   31314.500000  1.654792e+09       15.970424     48.539499   1942.057528   \n",
       "std    18079.868017  1.100025e+05       14.359576      8.865367   7811.589055   \n",
       "min        0.000000  1.654712e+09      -22.010000     10.740000      0.000000   \n",
       "25%    15657.250000  1.654743e+09       10.994250     47.530000    130.000000   \n",
       "50%    31314.500000  1.654762e+09       20.130000     50.150000    981.000000   \n",
       "75%    46971.750000  1.654778e+09       25.409500     53.240000   1189.000000   \n",
       "max    62629.000000  1.655130e+09       59.930000     75.200000  60000.000000   \n",
       "\n",
       "          eCO2[ppm]        Raw H2   Raw Ethanol  Pressure[hPa]         PM1.0  \\\n",
       "count  62630.000000  62630.000000  62630.000000   62630.000000  62630.000000   \n",
       "mean     670.021044  12942.453936  19754.257912     938.627649    100.594309   \n",
       "std     1905.885439    272.464305    609.513156       1.331344    922.524245   \n",
       "min      400.000000  10668.000000  15317.000000     930.852000      0.000000   \n",
       "25%      400.000000  12830.000000  19435.000000     938.700000      1.280000   \n",
       "50%      400.000000  12924.000000  19501.000000     938.816000      1.810000   \n",
       "75%      438.000000  13109.000000  20078.000000     939.418000      2.090000   \n",
       "max    60000.000000  13803.000000  21410.000000     939.861000  14333.690000   \n",
       "\n",
       "              PM2.5         NC0.5         NC1.0         NC2.5           CNT  \\\n",
       "count  62630.000000  62630.000000  62630.000000  62630.000000  62630.000000   \n",
       "mean     184.467770    491.463608    203.586487     80.049042  10511.386157   \n",
       "std     1976.305615   4265.661251   2214.738556   1083.383189   7597.870997   \n",
       "min        0.000000      0.000000      0.000000      0.000000      0.000000   \n",
       "25%        1.340000      8.820000      1.384000      0.033000   3625.250000   \n",
       "50%        1.880000     12.450000      1.943000      0.044000   9336.000000   \n",
       "75%        2.180000     14.420000      2.249000      0.051000  17164.750000   \n",
       "max    45432.260000  61482.030000  51914.680000  30026.438000  24993.000000   \n",
       "\n",
       "         Fire Alarm  \n",
       "count  62630.000000  \n",
       "mean       0.714626  \n",
       "std        0.451596  \n",
       "min        0.000000  \n",
       "25%        0.000000  \n",
       "50%        1.000000  \n",
       "75%        1.000000  \n",
       "max        1.000000  "
      ]
     },
     "execution_count": 721,
     "metadata": {},
     "output_type": "execute_result"
    }
   ],
   "source": [
    "data.describe()"
   ]
  },
  {
   "cell_type": "markdown",
   "id": "64416931",
   "metadata": {},
   "source": [
    "#### Data Cleaning"
   ]
  },
  {
   "cell_type": "code",
   "execution_count": 722,
   "id": "773db8f9",
   "metadata": {},
   "outputs": [],
   "source": [
    "#Delete Column 'Unnamed 0'\n",
    "data.drop(columns=['Unnamed: 0'], inplace=True)"
   ]
  },
  {
   "cell_type": "code",
   "execution_count": 723,
   "id": "7c3be049",
   "metadata": {},
   "outputs": [
    {
     "data": {
      "text/plain": [
       "UTC               0\n",
       "Temperature[C]    0\n",
       "Humidity[%]       0\n",
       "TVOC[ppb]         0\n",
       "eCO2[ppm]         0\n",
       "Raw H2            0\n",
       "Raw Ethanol       0\n",
       "Pressure[hPa]     0\n",
       "PM1.0             0\n",
       "PM2.5             0\n",
       "NC0.5             0\n",
       "NC1.0             0\n",
       "NC2.5             0\n",
       "CNT               0\n",
       "Fire Alarm        0\n",
       "dtype: int64"
      ]
     },
     "execution_count": 723,
     "metadata": {},
     "output_type": "execute_result"
    }
   ],
   "source": [
    "# Checking for missing values\n",
    "data.isnull().sum().copy()"
   ]
  },
  {
   "cell_type": "code",
   "execution_count": 724,
   "id": "c864876f",
   "metadata": {},
   "outputs": [
    {
     "data": {
      "text/plain": [
       "0"
      ]
     },
     "execution_count": 724,
     "metadata": {},
     "output_type": "execute_result"
    }
   ],
   "source": [
    "# Checking for duplicates\n",
    "data.duplicated().sum().copy()"
   ]
  },
  {
   "cell_type": "code",
   "execution_count": 725,
   "id": "ab71668e",
   "metadata": {},
   "outputs": [
    {
     "data": {
      "text/html": [
       "<div>\n",
       "<style scoped>\n",
       "    .dataframe tbody tr th:only-of-type {\n",
       "        vertical-align: middle;\n",
       "    }\n",
       "\n",
       "    .dataframe tbody tr th {\n",
       "        vertical-align: top;\n",
       "    }\n",
       "\n",
       "    .dataframe thead th {\n",
       "        text-align: right;\n",
       "    }\n",
       "</style>\n",
       "<table border=\"1\" class=\"dataframe\">\n",
       "  <thead>\n",
       "    <tr style=\"text-align: right;\">\n",
       "      <th></th>\n",
       "      <th>UTC</th>\n",
       "      <th>Temperature[C]</th>\n",
       "      <th>Humidity[%]</th>\n",
       "      <th>TVOC[ppb]</th>\n",
       "      <th>eCO2[ppm]</th>\n",
       "      <th>Raw H2</th>\n",
       "      <th>Raw Ethanol</th>\n",
       "      <th>Pressure[hPa]</th>\n",
       "      <th>PM1.0</th>\n",
       "      <th>PM2.5</th>\n",
       "      <th>NC0.5</th>\n",
       "      <th>NC1.0</th>\n",
       "      <th>NC2.5</th>\n",
       "      <th>CNT</th>\n",
       "      <th>Fire Alarm</th>\n",
       "    </tr>\n",
       "  </thead>\n",
       "  <tbody>\n",
       "    <tr>\n",
       "      <th>0</th>\n",
       "      <td>1654733331</td>\n",
       "      <td>20.000</td>\n",
       "      <td>57.36</td>\n",
       "      <td>0</td>\n",
       "      <td>400</td>\n",
       "      <td>12306</td>\n",
       "      <td>18520</td>\n",
       "      <td>939.735</td>\n",
       "      <td>0.0</td>\n",
       "      <td>0.0</td>\n",
       "      <td>0.0</td>\n",
       "      <td>0.0</td>\n",
       "      <td>0.0</td>\n",
       "      <td>0</td>\n",
       "      <td>0</td>\n",
       "    </tr>\n",
       "    <tr>\n",
       "      <th>1</th>\n",
       "      <td>1654733332</td>\n",
       "      <td>20.015</td>\n",
       "      <td>56.67</td>\n",
       "      <td>0</td>\n",
       "      <td>400</td>\n",
       "      <td>12345</td>\n",
       "      <td>18651</td>\n",
       "      <td>939.744</td>\n",
       "      <td>0.0</td>\n",
       "      <td>0.0</td>\n",
       "      <td>0.0</td>\n",
       "      <td>0.0</td>\n",
       "      <td>0.0</td>\n",
       "      <td>1</td>\n",
       "      <td>0</td>\n",
       "    </tr>\n",
       "    <tr>\n",
       "      <th>2</th>\n",
       "      <td>1654733333</td>\n",
       "      <td>20.029</td>\n",
       "      <td>55.96</td>\n",
       "      <td>0</td>\n",
       "      <td>400</td>\n",
       "      <td>12374</td>\n",
       "      <td>18764</td>\n",
       "      <td>939.738</td>\n",
       "      <td>0.0</td>\n",
       "      <td>0.0</td>\n",
       "      <td>0.0</td>\n",
       "      <td>0.0</td>\n",
       "      <td>0.0</td>\n",
       "      <td>2</td>\n",
       "      <td>0</td>\n",
       "    </tr>\n",
       "    <tr>\n",
       "      <th>3</th>\n",
       "      <td>1654733334</td>\n",
       "      <td>20.044</td>\n",
       "      <td>55.28</td>\n",
       "      <td>0</td>\n",
       "      <td>400</td>\n",
       "      <td>12390</td>\n",
       "      <td>18849</td>\n",
       "      <td>939.736</td>\n",
       "      <td>0.0</td>\n",
       "      <td>0.0</td>\n",
       "      <td>0.0</td>\n",
       "      <td>0.0</td>\n",
       "      <td>0.0</td>\n",
       "      <td>3</td>\n",
       "      <td>0</td>\n",
       "    </tr>\n",
       "    <tr>\n",
       "      <th>4</th>\n",
       "      <td>1654733335</td>\n",
       "      <td>20.059</td>\n",
       "      <td>54.69</td>\n",
       "      <td>0</td>\n",
       "      <td>400</td>\n",
       "      <td>12403</td>\n",
       "      <td>18921</td>\n",
       "      <td>939.744</td>\n",
       "      <td>0.0</td>\n",
       "      <td>0.0</td>\n",
       "      <td>0.0</td>\n",
       "      <td>0.0</td>\n",
       "      <td>0.0</td>\n",
       "      <td>4</td>\n",
       "      <td>0</td>\n",
       "    </tr>\n",
       "  </tbody>\n",
       "</table>\n",
       "</div>"
      ],
      "text/plain": [
       "          UTC  Temperature[C]  Humidity[%]  TVOC[ppb]  eCO2[ppm]  Raw H2  \\\n",
       "0  1654733331          20.000        57.36          0        400   12306   \n",
       "1  1654733332          20.015        56.67          0        400   12345   \n",
       "2  1654733333          20.029        55.96          0        400   12374   \n",
       "3  1654733334          20.044        55.28          0        400   12390   \n",
       "4  1654733335          20.059        54.69          0        400   12403   \n",
       "\n",
       "   Raw Ethanol  Pressure[hPa]  PM1.0  PM2.5  NC0.5  NC1.0  NC2.5  CNT  \\\n",
       "0        18520        939.735    0.0    0.0    0.0    0.0    0.0    0   \n",
       "1        18651        939.744    0.0    0.0    0.0    0.0    0.0    1   \n",
       "2        18764        939.738    0.0    0.0    0.0    0.0    0.0    2   \n",
       "3        18849        939.736    0.0    0.0    0.0    0.0    0.0    3   \n",
       "4        18921        939.744    0.0    0.0    0.0    0.0    0.0    4   \n",
       "\n",
       "   Fire Alarm  \n",
       "0           0  \n",
       "1           0  \n",
       "2           0  \n",
       "3           0  \n",
       "4           0  "
      ]
     },
     "execution_count": 725,
     "metadata": {},
     "output_type": "execute_result"
    }
   ],
   "source": [
    "data.head()"
   ]
  },
  {
   "cell_type": "markdown",
   "id": "227fc782",
   "metadata": {},
   "source": [
    "#### Normalising the Dataset\n",
    "Machine learning algorithms tend to perform better or converge faster when the different features (variables) are on a smaller scale. Therefore it is common practice to normalize the data before training machine learning models on it.Normalization also makes the training process less sensitive to the scale of the features. This results in getting better coefficients after training."
   ]
  },
  {
   "cell_type": "code",
   "execution_count": 726,
   "id": "56049f69",
   "metadata": {
    "scrolled": true
   },
   "outputs": [
    {
     "data": {
      "text/html": [
       "<div>\n",
       "<style scoped>\n",
       "    .dataframe tbody tr th:only-of-type {\n",
       "        vertical-align: middle;\n",
       "    }\n",
       "\n",
       "    .dataframe tbody tr th {\n",
       "        vertical-align: top;\n",
       "    }\n",
       "\n",
       "    .dataframe thead th {\n",
       "        text-align: right;\n",
       "    }\n",
       "</style>\n",
       "<table border=\"1\" class=\"dataframe\">\n",
       "  <thead>\n",
       "    <tr style=\"text-align: right;\">\n",
       "      <th></th>\n",
       "      <th>UTC</th>\n",
       "      <th>Temperature[C]</th>\n",
       "      <th>Humidity[%]</th>\n",
       "      <th>TVOC[ppb]</th>\n",
       "      <th>eCO2[ppm]</th>\n",
       "      <th>Raw H2</th>\n",
       "      <th>Raw Ethanol</th>\n",
       "      <th>Pressure[hPa]</th>\n",
       "      <th>PM1.0</th>\n",
       "      <th>PM2.5</th>\n",
       "      <th>NC0.5</th>\n",
       "      <th>NC1.0</th>\n",
       "      <th>NC2.5</th>\n",
       "      <th>CNT</th>\n",
       "      <th>Fire Alarm</th>\n",
       "    </tr>\n",
       "  </thead>\n",
       "  <tbody>\n",
       "    <tr>\n",
       "      <th>0</th>\n",
       "      <td>0.050600</td>\n",
       "      <td>0.512692</td>\n",
       "      <td>0.723239</td>\n",
       "      <td>0.0</td>\n",
       "      <td>0.0</td>\n",
       "      <td>0.522488</td>\n",
       "      <td>0.525685</td>\n",
       "      <td>0.986014</td>\n",
       "      <td>0.0</td>\n",
       "      <td>0.0</td>\n",
       "      <td>0.0</td>\n",
       "      <td>0.0</td>\n",
       "      <td>0.0</td>\n",
       "      <td>0.00000</td>\n",
       "      <td>0.0</td>\n",
       "    </tr>\n",
       "    <tr>\n",
       "      <th>1</th>\n",
       "      <td>0.050603</td>\n",
       "      <td>0.512875</td>\n",
       "      <td>0.712535</td>\n",
       "      <td>0.0</td>\n",
       "      <td>0.0</td>\n",
       "      <td>0.534928</td>\n",
       "      <td>0.547185</td>\n",
       "      <td>0.987013</td>\n",
       "      <td>0.0</td>\n",
       "      <td>0.0</td>\n",
       "      <td>0.0</td>\n",
       "      <td>0.0</td>\n",
       "      <td>0.0</td>\n",
       "      <td>0.00004</td>\n",
       "      <td>0.0</td>\n",
       "    </tr>\n",
       "    <tr>\n",
       "      <th>2</th>\n",
       "      <td>0.050605</td>\n",
       "      <td>0.513046</td>\n",
       "      <td>0.701520</td>\n",
       "      <td>0.0</td>\n",
       "      <td>0.0</td>\n",
       "      <td>0.544179</td>\n",
       "      <td>0.565731</td>\n",
       "      <td>0.986347</td>\n",
       "      <td>0.0</td>\n",
       "      <td>0.0</td>\n",
       "      <td>0.0</td>\n",
       "      <td>0.0</td>\n",
       "      <td>0.0</td>\n",
       "      <td>0.00008</td>\n",
       "      <td>0.0</td>\n",
       "    </tr>\n",
       "    <tr>\n",
       "      <th>3</th>\n",
       "      <td>0.050607</td>\n",
       "      <td>0.513229</td>\n",
       "      <td>0.690971</td>\n",
       "      <td>0.0</td>\n",
       "      <td>0.0</td>\n",
       "      <td>0.549282</td>\n",
       "      <td>0.579682</td>\n",
       "      <td>0.986125</td>\n",
       "      <td>0.0</td>\n",
       "      <td>0.0</td>\n",
       "      <td>0.0</td>\n",
       "      <td>0.0</td>\n",
       "      <td>0.0</td>\n",
       "      <td>0.00012</td>\n",
       "      <td>0.0</td>\n",
       "    </tr>\n",
       "    <tr>\n",
       "      <th>4</th>\n",
       "      <td>0.050610</td>\n",
       "      <td>0.513412</td>\n",
       "      <td>0.681818</td>\n",
       "      <td>0.0</td>\n",
       "      <td>0.0</td>\n",
       "      <td>0.553429</td>\n",
       "      <td>0.591498</td>\n",
       "      <td>0.987013</td>\n",
       "      <td>0.0</td>\n",
       "      <td>0.0</td>\n",
       "      <td>0.0</td>\n",
       "      <td>0.0</td>\n",
       "      <td>0.0</td>\n",
       "      <td>0.00016</td>\n",
       "      <td>0.0</td>\n",
       "    </tr>\n",
       "  </tbody>\n",
       "</table>\n",
       "</div>"
      ],
      "text/plain": [
       "        UTC  Temperature[C]  Humidity[%]  TVOC[ppb]  eCO2[ppm]    Raw H2  \\\n",
       "0  0.050600        0.512692     0.723239        0.0        0.0  0.522488   \n",
       "1  0.050603        0.512875     0.712535        0.0        0.0  0.534928   \n",
       "2  0.050605        0.513046     0.701520        0.0        0.0  0.544179   \n",
       "3  0.050607        0.513229     0.690971        0.0        0.0  0.549282   \n",
       "4  0.050610        0.513412     0.681818        0.0        0.0  0.553429   \n",
       "\n",
       "   Raw Ethanol  Pressure[hPa]  PM1.0  PM2.5  NC0.5  NC1.0  NC2.5      CNT  \\\n",
       "0     0.525685       0.986014    0.0    0.0    0.0    0.0    0.0  0.00000   \n",
       "1     0.547185       0.987013    0.0    0.0    0.0    0.0    0.0  0.00004   \n",
       "2     0.565731       0.986347    0.0    0.0    0.0    0.0    0.0  0.00008   \n",
       "3     0.579682       0.986125    0.0    0.0    0.0    0.0    0.0  0.00012   \n",
       "4     0.591498       0.987013    0.0    0.0    0.0    0.0    0.0  0.00016   \n",
       "\n",
       "   Fire Alarm  \n",
       "0         0.0  \n",
       "1         0.0  \n",
       "2         0.0  \n",
       "3         0.0  \n",
       "4         0.0  "
      ]
     },
     "execution_count": 726,
     "metadata": {},
     "output_type": "execute_result"
    }
   ],
   "source": [
    "scaler = preprocessing.MinMaxScaler()\n",
    "names = data.columns\n",
    "d = scaler.fit_transform(data)\n",
    "scaled_df = pd.DataFrame(d, columns=names)\n",
    "scaled_df.head()"
   ]
  },
  {
   "cell_type": "markdown",
   "id": "9314ea58",
   "metadata": {},
   "source": [
    "### Modelling"
   ]
  },
  {
   "cell_type": "markdown",
   "id": "0ca285a3",
   "metadata": {},
   "source": [
    "##### Import ML Algorithms and initialize them\n",
    "In this process, ten (10) regression models are built and trained. They are:\n",
    "\n",
    "- Random Forest Regressor\n",
    "- Decision Tree Regressor\n",
    "- Support Vector Regression\n",
    "- Gradient Boosting Regressor. \n",
    "- KNeighbors Regressor\n",
    "- Lasso Regression Model\n",
    "- Ridge Regression Model\n",
    "- Elastic Net Regressor\n",
    "- Logistic Regression Model\n",
    "- Linear Regression Model\n",
    "\n",
    "First, we define a variable to store the model algorithm, next, we fit the train set variables into the model, and finally make some predictions in the test set."
   ]
  },
  {
   "cell_type": "code",
   "execution_count": 727,
   "id": "6fa05e1f",
   "metadata": {},
   "outputs": [],
   "source": [
    "#import and load libraries\n",
    "import sklearn\n",
    "\n",
    "from sklearn.tree import DecisionTreeRegressor\n",
    "from sklearn.ensemble import RandomForestRegressor\n",
    "from sklearn.svm import SVR\n",
    "from sklearn.ensemble import GradientBoostingRegressor\n",
    "from sklearn.neighbors import KNeighborsRegressor\n",
    "from sklearn.linear_model import LinearRegression\n",
    "from sklearn.linear_model import Lasso\n",
    "from sklearn.linear_model import Ridge\n",
    "from sklearn.linear_model import ElasticNet\n",
    "from sklearn.linear_model import LogisticRegression\n",
    "\n",
    "from sklearn.metrics import accuracy_score, classification_report\n",
    "from sklearn import tree\n",
    "import seaborn as sns\n",
    "\n",
    "from sklearn.metrics import mean_squared_error\n",
    "from sklearn.metrics import mean_absolute_error\n",
    "from sklearn.metrics import mean_absolute_percentage_error\n",
    "\n",
    "from sklearn.model_selection import train_test_split"
   ]
  },
  {
   "cell_type": "markdown",
   "id": "c9319714",
   "metadata": {},
   "source": [
    "#### Select Target"
   ]
  },
  {
   "cell_type": "code",
   "execution_count": 728,
   "id": "bd64ea01",
   "metadata": {},
   "outputs": [],
   "source": [
    "y = scaled_df['Fire Alarm']"
   ]
  },
  {
   "cell_type": "code",
   "execution_count": 729,
   "id": "507bbf3c",
   "metadata": {},
   "outputs": [
    {
     "data": {
      "text/plain": [
       "0    0.0\n",
       "1    0.0\n",
       "2    0.0\n",
       "3    0.0\n",
       "4    0.0\n",
       "Name: Fire Alarm, dtype: float64"
      ]
     },
     "execution_count": 729,
     "metadata": {},
     "output_type": "execute_result"
    }
   ],
   "source": [
    "y.head()"
   ]
  },
  {
   "cell_type": "markdown",
   "id": "1d0eefa5",
   "metadata": {},
   "source": [
    "#### Select Feature\n",
    "We are dropping 'Fire Alarm' column, since it is the target."
   ]
  },
  {
   "cell_type": "code",
   "execution_count": 730,
   "id": "e6857d0c",
   "metadata": {},
   "outputs": [
    {
     "data": {
      "text/plain": [
       "(62630, 14)"
      ]
     },
     "execution_count": 730,
     "metadata": {},
     "output_type": "execute_result"
    }
   ],
   "source": [
    "features = scaled_df.drop([\"Fire Alarm\"],axis=1)\n",
    "features.shape"
   ]
  },
  {
   "cell_type": "code",
   "execution_count": 731,
   "id": "54b4c11f",
   "metadata": {},
   "outputs": [],
   "source": [
    "X = scaled_df[features.columns]"
   ]
  },
  {
   "cell_type": "markdown",
   "id": "8955622e",
   "metadata": {},
   "source": [
    "#### Train Test Split"
   ]
  },
  {
   "cell_type": "code",
   "execution_count": 732,
   "id": "5143e900",
   "metadata": {},
   "outputs": [],
   "source": [
    "X_train,X_test,y_train,y_test=train_test_split(X,y,test_size=0.3, random_state=42)"
   ]
  },
  {
   "cell_type": "markdown",
   "id": "44e3e643",
   "metadata": {},
   "source": [
    "#### Random Forest Regressor"
   ]
  },
  {
   "cell_type": "code",
   "execution_count": 733,
   "id": "dcda89a2",
   "metadata": {},
   "outputs": [],
   "source": [
    "RF_model = RandomForestRegressor()"
   ]
  },
  {
   "cell_type": "code",
   "execution_count": 734,
   "id": "f8bfeeaf",
   "metadata": {},
   "outputs": [
    {
     "data": {
      "text/plain": [
       "RandomForestRegressor()"
      ]
     },
     "execution_count": 734,
     "metadata": {},
     "output_type": "execute_result"
    }
   ],
   "source": [
    "#fit the model on the training data\n",
    "RF_model.fit(X_train, y_train)"
   ]
  },
  {
   "cell_type": "code",
   "execution_count": 735,
   "id": "e1571bfe",
   "metadata": {},
   "outputs": [],
   "source": [
    "#predict on test data\n",
    "preds_RF = RF_model.predict(X_test)"
   ]
  },
  {
   "cell_type": "code",
   "execution_count": 736,
   "id": "74df5b4e",
   "metadata": {},
   "outputs": [],
   "source": [
    "# Calculating the errors\n",
    "mae_RF = mean_absolute_error(y_test,preds_RF)\n",
    "mape_RF = mean_absolute_percentage_error(y_test,preds_RF)\n",
    "rmse_RF = np.sqrt(mean_squared_error(y_test,preds_RF))"
   ]
  },
  {
   "cell_type": "markdown",
   "id": "b6427d4d",
   "metadata": {},
   "source": [
    "#### Gradient Boosting Regressor"
   ]
  },
  {
   "cell_type": "code",
   "execution_count": 737,
   "id": "b4131149",
   "metadata": {},
   "outputs": [],
   "source": [
    "GBR_model=GradientBoostingRegressor(n_estimators=100, max_depth=5,\\\n",
    "                                    min_samples_split=2,learning_rate=0.2)"
   ]
  },
  {
   "cell_type": "code",
   "execution_count": 738,
   "id": "2657cf37",
   "metadata": {},
   "outputs": [
    {
     "data": {
      "text/plain": [
       "GradientBoostingRegressor(learning_rate=0.2, max_depth=5)"
      ]
     },
     "execution_count": 738,
     "metadata": {},
     "output_type": "execute_result"
    }
   ],
   "source": [
    "GBR_model.fit(X_train, y_train)"
   ]
  },
  {
   "cell_type": "code",
   "execution_count": 739,
   "id": "d02cb128",
   "metadata": {},
   "outputs": [],
   "source": [
    "preds_GBR=GBR_model.predict(X_test)"
   ]
  },
  {
   "cell_type": "code",
   "execution_count": 740,
   "id": "cf142533",
   "metadata": {},
   "outputs": [],
   "source": [
    "# Calculating the errors\n",
    "mae_GBR = mean_absolute_error(y_test,preds_GBR)\n",
    "mape_GBR = mean_absolute_percentage_error(y_test,preds_GBR)\n",
    "rmse_GBR = np.sqrt(mean_squared_error(y_test,preds_GBR))"
   ]
  },
  {
   "cell_type": "markdown",
   "id": "ae617ced",
   "metadata": {},
   "source": [
    "#### Support Vector Regression"
   ]
  },
  {
   "cell_type": "code",
   "execution_count": 741,
   "id": "6fc79b60",
   "metadata": {},
   "outputs": [],
   "source": [
    "SVR_model = SVR()"
   ]
  },
  {
   "cell_type": "code",
   "execution_count": 742,
   "id": "71923773",
   "metadata": {},
   "outputs": [
    {
     "data": {
      "text/plain": [
       "SVR()"
      ]
     },
     "execution_count": 742,
     "metadata": {},
     "output_type": "execute_result"
    }
   ],
   "source": [
    "SVR_model.fit(X_train, y_train)"
   ]
  },
  {
   "cell_type": "code",
   "execution_count": 743,
   "id": "199871dc",
   "metadata": {},
   "outputs": [],
   "source": [
    "preds_SVR = SVR_model.predict(X_test)"
   ]
  },
  {
   "cell_type": "code",
   "execution_count": 744,
   "id": "e7a31b4f",
   "metadata": {},
   "outputs": [],
   "source": [
    "# Calculating the errors\n",
    "mae_SVR = mean_absolute_error(y_test,preds_SVR)\n",
    "mape_SVR = mean_absolute_percentage_error(y_test,preds_SVR)\n",
    "rmse_SVR = np.sqrt(mean_squared_error(y_test,preds_SVR))"
   ]
  },
  {
   "cell_type": "markdown",
   "id": "96c7e067",
   "metadata": {},
   "source": [
    "#### Decision Tree Regressor"
   ]
  },
  {
   "cell_type": "code",
   "execution_count": 745,
   "id": "2f8fca59",
   "metadata": {},
   "outputs": [],
   "source": [
    "DT_model = DecisionTreeRegressor()"
   ]
  },
  {
   "cell_type": "code",
   "execution_count": 746,
   "id": "17f3e1b1",
   "metadata": {},
   "outputs": [
    {
     "data": {
      "text/plain": [
       "DecisionTreeRegressor()"
      ]
     },
     "execution_count": 746,
     "metadata": {},
     "output_type": "execute_result"
    }
   ],
   "source": [
    "DT_model.fit(X_train, y_train)"
   ]
  },
  {
   "cell_type": "code",
   "execution_count": 747,
   "id": "aa92fba8",
   "metadata": {},
   "outputs": [],
   "source": [
    "preds_DT = DT_model.predict(X_test)"
   ]
  },
  {
   "cell_type": "code",
   "execution_count": 748,
   "id": "b9cfcaad",
   "metadata": {},
   "outputs": [],
   "source": [
    "# Calculating the errors\n",
    "mae_DT = mean_absolute_error(y_test,preds_DT)\n",
    "mape_DT = mean_absolute_percentage_error(y_test,preds_DT)\n",
    "rmse_DT = np.sqrt(mean_squared_error(y_test,preds_DT))"
   ]
  },
  {
   "cell_type": "markdown",
   "id": "587e2871",
   "metadata": {},
   "source": [
    "#### Linear Regression Model"
   ]
  },
  {
   "cell_type": "code",
   "execution_count": 749,
   "id": "9253dd94",
   "metadata": {},
   "outputs": [],
   "source": [
    "LR_model = LinearRegression()"
   ]
  },
  {
   "cell_type": "code",
   "execution_count": 750,
   "id": "45f022d8",
   "metadata": {},
   "outputs": [
    {
     "data": {
      "text/plain": [
       "LinearRegression()"
      ]
     },
     "execution_count": 750,
     "metadata": {},
     "output_type": "execute_result"
    }
   ],
   "source": [
    "LR_model.fit(X_train, y_train)"
   ]
  },
  {
   "cell_type": "code",
   "execution_count": 751,
   "id": "d4a055d3",
   "metadata": {},
   "outputs": [],
   "source": [
    "preds_LR = LR_model.predict(X_test)"
   ]
  },
  {
   "cell_type": "code",
   "execution_count": 752,
   "id": "55395a47",
   "metadata": {},
   "outputs": [],
   "source": [
    "# Calculating the errors\n",
    "mae_LR = mean_absolute_error(y_test,preds_LR)\n",
    "mape_LR = mean_absolute_percentage_error(y_test,preds_LR)\n",
    "rmse_LR = np.sqrt(mean_squared_error(y_test,preds_LR))"
   ]
  },
  {
   "cell_type": "markdown",
   "id": "2dcaa469",
   "metadata": {},
   "source": [
    "#### K-Nearest Neighbor Regression"
   ]
  },
  {
   "cell_type": "code",
   "execution_count": 753,
   "id": "7bed6c93",
   "metadata": {},
   "outputs": [],
   "source": [
    "KNN_model = KNeighborsRegressor(n_neighbors=3)"
   ]
  },
  {
   "cell_type": "code",
   "execution_count": 754,
   "id": "d9598dd7",
   "metadata": {},
   "outputs": [
    {
     "data": {
      "text/plain": [
       "KNeighborsRegressor(n_neighbors=3)"
      ]
     },
     "execution_count": 754,
     "metadata": {},
     "output_type": "execute_result"
    }
   ],
   "source": [
    "KNN_model.fit(X_train, y_train)"
   ]
  },
  {
   "cell_type": "code",
   "execution_count": 755,
   "id": "d3b550ec",
   "metadata": {},
   "outputs": [],
   "source": [
    "preds_KNN = KNN_model.predict(X_test)"
   ]
  },
  {
   "cell_type": "code",
   "execution_count": 756,
   "id": "cef3d074",
   "metadata": {},
   "outputs": [],
   "source": [
    "# Calculating the errors\n",
    "mae_KNN = mean_absolute_error(y_test,preds_KNN)\n",
    "mape_KNN = mean_absolute_percentage_error(y_test,preds_KNN)\n",
    "rmse_KNN = np.sqrt(mean_squared_error(y_test,preds_KNN))"
   ]
  },
  {
   "cell_type": "markdown",
   "id": "ac0e44f0",
   "metadata": {},
   "source": [
    "#### Lasso Regression Model"
   ]
  },
  {
   "cell_type": "code",
   "execution_count": 757,
   "id": "d0e76841",
   "metadata": {},
   "outputs": [],
   "source": [
    "Lasso_model = Lasso(alpha=0.1)"
   ]
  },
  {
   "cell_type": "code",
   "execution_count": 758,
   "id": "b736cc94",
   "metadata": {},
   "outputs": [
    {
     "data": {
      "text/plain": [
       "Lasso(alpha=0.1)"
      ]
     },
     "execution_count": 758,
     "metadata": {},
     "output_type": "execute_result"
    }
   ],
   "source": [
    "Lasso_model.fit(X_train, y_train)"
   ]
  },
  {
   "cell_type": "code",
   "execution_count": 759,
   "id": "9b9682e4",
   "metadata": {},
   "outputs": [],
   "source": [
    "preds_Lasso = Lasso_model.predict(X_test)"
   ]
  },
  {
   "cell_type": "code",
   "execution_count": 760,
   "id": "b81bbf81",
   "metadata": {},
   "outputs": [],
   "source": [
    "# Calculating the errors\n",
    "mae_Lasso = mean_absolute_error(y_test,preds_Lasso)\n",
    "mape_Lasso = mean_absolute_percentage_error(y_test,preds_Lasso)\n",
    "rmse_Lasso = np.sqrt(mean_squared_error(y_test,preds_Lasso))"
   ]
  },
  {
   "cell_type": "markdown",
   "id": "3766dfef",
   "metadata": {},
   "source": [
    "#### Ridge Regression Model"
   ]
  },
  {
   "cell_type": "code",
   "execution_count": 761,
   "id": "273937bf",
   "metadata": {},
   "outputs": [],
   "source": [
    "ridge_model = Ridge(alpha=1)"
   ]
  },
  {
   "cell_type": "code",
   "execution_count": 762,
   "id": "9d62cd86",
   "metadata": {},
   "outputs": [
    {
     "data": {
      "text/plain": [
       "Ridge(alpha=1)"
      ]
     },
     "execution_count": 762,
     "metadata": {},
     "output_type": "execute_result"
    }
   ],
   "source": [
    "ridge_model.fit(X_train, y_train)"
   ]
  },
  {
   "cell_type": "code",
   "execution_count": 763,
   "id": "35d7008b",
   "metadata": {},
   "outputs": [],
   "source": [
    "preds_ridge = ridge_model.predict(X_test)"
   ]
  },
  {
   "cell_type": "code",
   "execution_count": 764,
   "id": "6c8b3631",
   "metadata": {},
   "outputs": [],
   "source": [
    "# Calculating the errors\n",
    "mae_ridge = mean_absolute_error(y_test,preds_ridge)\n",
    "mape_ridge = mean_absolute_percentage_error(y_test,preds_ridge)\n",
    "rmse_ridge = np.sqrt(mean_squared_error(y_test,preds_ridge))"
   ]
  },
  {
   "cell_type": "markdown",
   "id": "2555d80f",
   "metadata": {},
   "source": [
    "#### ELastic Net Regression Model"
   ]
  },
  {
   "cell_type": "code",
   "execution_count": 765,
   "id": "b31c15a3",
   "metadata": {},
   "outputs": [],
   "source": [
    "Elastic_model = ElasticNet(alpha=0.1, l1_ratio=0.5, random_state=42)"
   ]
  },
  {
   "cell_type": "code",
   "execution_count": 766,
   "id": "4555b111",
   "metadata": {},
   "outputs": [
    {
     "data": {
      "text/plain": [
       "ElasticNet(alpha=0.1, random_state=42)"
      ]
     },
     "execution_count": 766,
     "metadata": {},
     "output_type": "execute_result"
    }
   ],
   "source": [
    "Elastic_model.fit(X_train, y_train)"
   ]
  },
  {
   "cell_type": "code",
   "execution_count": 767,
   "id": "be73350f",
   "metadata": {},
   "outputs": [],
   "source": [
    "preds_Elastic = Elastic_model.predict(X_test)"
   ]
  },
  {
   "cell_type": "code",
   "execution_count": 768,
   "id": "74542cc5",
   "metadata": {},
   "outputs": [],
   "source": [
    "# Calculating the errors\n",
    "mae_Elastic = mean_absolute_error(y_test,preds_Elastic)\n",
    "mape_Elastic = mean_absolute_percentage_error(y_test,preds_Elastic)\n",
    "rmse_Elastic = np.sqrt(mean_squared_error(y_test,preds_Elastic))"
   ]
  },
  {
   "cell_type": "markdown",
   "id": "c2000864",
   "metadata": {},
   "source": [
    "#### Logistic Regression Model"
   ]
  },
  {
   "cell_type": "code",
   "execution_count": 769,
   "id": "4fcad444",
   "metadata": {},
   "outputs": [],
   "source": [
    "logreg_model = LogisticRegression()"
   ]
  },
  {
   "cell_type": "code",
   "execution_count": 770,
   "id": "b386cb6a",
   "metadata": {},
   "outputs": [
    {
     "data": {
      "text/plain": [
       "LogisticRegression()"
      ]
     },
     "execution_count": 770,
     "metadata": {},
     "output_type": "execute_result"
    }
   ],
   "source": [
    "logreg_model.fit(X_train, y_train)"
   ]
  },
  {
   "cell_type": "code",
   "execution_count": 771,
   "id": "37df0f23",
   "metadata": {},
   "outputs": [],
   "source": [
    "preds_logreg = logreg_model.predict(X_test)"
   ]
  },
  {
   "cell_type": "code",
   "execution_count": 772,
   "id": "a9d77217",
   "metadata": {},
   "outputs": [],
   "source": [
    "# Calculating the errors\n",
    "mae_logreg = mean_absolute_error(y_test,preds_logreg)\n",
    "mape_logreg = mean_absolute_percentage_error(y_test,preds_logreg)\n",
    "rmse_logreg = np.sqrt(mean_squared_error(y_test,preds_logreg))"
   ]
  },
  {
   "cell_type": "markdown",
   "id": "29b57034",
   "metadata": {},
   "source": [
    "#### Evaluation of Models"
   ]
  },
  {
   "cell_type": "code",
   "execution_count": 773,
   "id": "f3404aba",
   "metadata": {
    "scrolled": false
   },
   "outputs": [
    {
     "name": "stdout",
     "output_type": "stream",
     "text": [
      "+-----------------------------+-------------+-------------+------------+--------+\n",
      "| Model                       |         MAE |        MAPE |       RMSE |   Rank |\n",
      "+=============================+=============+=============+============+========+\n",
      "| Decision Tree Regressor     | 5.32226e-05 | 2.39693e+11 | 0.00729538 |      1 |\n",
      "+-----------------------------+-------------+-------------+------------+--------+\n",
      "| Random Forest Regressor     | 0.000139976 | 5.9444e+11  | 0.00650518 |      2 |\n",
      "+-----------------------------+-------------+-------------+------------+--------+\n",
      "| KNN Regressor               | 0.000230631 | 9.58774e+11 | 0.0111439  |      3 |\n",
      "+-----------------------------+-------------+-------------+------------+--------+\n",
      "| Gradient Boosting Regressor | 0.000295753 | 9.82602e+11 | 0.00510343 |      4 |\n",
      "+-----------------------------+-------------+-------------+------------+--------+\n",
      "| Logistic Regressor          | 0.0340093   | 4.19463e+13 | 0.184416   |      5 |\n",
      "+-----------------------------+-------------+-------------+------------+--------+\n",
      "| Support Vector Regressor    | 0.0750783   | 1.10265e+14 | 0.113374   |      6 |\n",
      "+-----------------------------+-------------+-------------+------------+--------+\n",
      "| Linear Regressor            | 0.223929    | 3.91388e+14 | 0.00729538 |      7 |\n",
      "+-----------------------------+-------------+-------------+------------+--------+\n",
      "| Ridge Regressor             | 0.22454     | 3.91493e+14 | 0.28066    |      8 |\n",
      "+-----------------------------+-------------+-------------+------------+--------+\n",
      "| Elastic Net Regressor       | 0.354353    | 8.07028e+14 | 0.398298   |      9 |\n",
      "+-----------------------------+-------------+-------------+------------+--------+\n",
      "| Lasso Regressor             | 0.408839    | 9.33139e+14 | 0.453455   |     10 |\n",
      "+-----------------------------+-------------+-------------+------------+--------+\n"
     ]
    }
   ],
   "source": [
    "ML_models = pd.DataFrame({\n",
    "    'Model': ['Random Forest Regressor', 'Gradient Boosting Regressor', 'Support Vector Regressor',\\\n",
    "              'Decision Tree Regressor', 'Linear Regressor', 'KNN Regressor', 'Lasso Regressor',\\\n",
    "             'Ridge Regressor', 'Elastic Net Regressor', 'Logistic Regressor'],\n",
    "    'MAE': [mae_RF,mae_GBR,mae_SVR, mae_DT, mae_LR, mae_KNN, mae_Lasso, mae_ridge, mae_Elastic, mae_logreg],\n",
    "    'MAPE': [mape_RF,mape_GBR,mape_SVR, mape_DT, mape_LR, mape_KNN, mape_Lasso, mape_ridge, mape_Elastic, mape_logreg],\n",
    "    'RMSE': [rmse_RF,rmse_GBR,rmse_SVR, rmse_DT, rmse_DT, rmse_KNN, rmse_Lasso, rmse_ridge, rmse_Elastic, rmse_logreg]})\n",
    "    \n",
    "# sort by both MAE and RMSE\n",
    "Best_Model = ML_models.sort_values(by=['MAE', 'RMSE'])\n",
    "Best_Model = Best_Model.reset_index(drop=True)\n",
    "Best_Model['Rank'] = Best_Model.index + 1\n",
    "\n",
    "Best_Model_table = tabulate(Best_Model, headers='keys', tablefmt='grid', showindex=False)\n",
    "print(Best_Model_table)"
   ]
  },
  {
   "cell_type": "markdown",
   "id": "763808c6",
   "metadata": {},
   "source": [
    "##### Pie chart to display the proportion of Model Ranks"
   ]
  },
  {
   "cell_type": "code",
   "execution_count": 774,
   "id": "825e9e1e",
   "metadata": {},
   "outputs": [
    {
     "data": {
      "image/png": "[encoded data removed]",
      "text/plain": [
       "<Figure size 576x432 with 1 Axes>"
      ]
     },
     "metadata": {},
     "output_type": "display_data"
    }
   ],
   "source": [
    "plt.figure(figsize=(8, 6))\n",
    "ranks = Best_Model['Rank']\n",
    "labels = Best_Model['Model']\n",
    "plt.pie(ranks, labels=labels, colors=colors, autopct='%1.1f%%')\n",
    "plt.title('Proportion of Each Model Rank')\n",
    "plt.show()"
   ]
  },
  {
   "cell_type": "markdown",
   "id": "fa0a0f28",
   "metadata": {},
   "source": [
    "##### Bar plot to display the Mean Absolute Values of each Regression Model"
   ]
  },
  {
   "cell_type": "code",
   "execution_count": 775,
   "id": "ee788f30",
   "metadata": {
    "scrolled": false
   },
   "outputs": [
    {
     "data": {
      "image/png": "[encoded data removed]",
      "text/plain": [
       "<Figure size 576x432 with 1 Axes>"
      ]
     },
     "metadata": {
      "needs_background": "light"
     },
     "output_type": "display_data"
    }
   ],
   "source": [
    "plt.figure(figsize=(8, 6))\n",
    "models = Best_Model['Model']\n",
    "mae = Best_Model['MAE']\n",
    "plt.barh(models, mae)\n",
    "plt.xlabel('MAE')\n",
    "plt.ylabel('Model')\n",
    "plt.title('MAE for Different Machine Learning Models')\n",
    "plt.show()"
   ]
  },
  {
   "cell_type": "markdown",
   "id": "0bc67f50",
   "metadata": {},
   "source": [
    "##### Bar plot to display the Mean Absolute Percentage Values of each Regression Model"
   ]
  },
  {
   "cell_type": "code",
   "execution_count": 776,
   "id": "cebc7ce2",
   "metadata": {},
   "outputs": [
    {
     "data": {
      "image/png": "[encoded data removed]",
      "text/plain": [
       "<Figure size 576x432 with 1 Axes>"
      ]
     },
     "metadata": {
      "needs_background": "light"
     },
     "output_type": "display_data"
    }
   ],
   "source": [
    "plt.figure(figsize=(8, 6))\n",
    "models = Best_Model['Model']\n",
    "mape = Best_Model['MAPE']\n",
    "plt.barh(models, mape)\n",
    "plt.xlabel('MAPE')\n",
    "plt.ylabel('Model')\n",
    "plt.title('MAPE for Different Machine Learning Models')\n",
    "plt.show()"
   ]
  },
  {
   "cell_type": "markdown",
   "id": "0f9a87cd",
   "metadata": {},
   "source": [
    "##### Bar plot to display the Root Mean Squared Values of each Regression Model"
   ]
  },
  {
   "cell_type": "code",
   "execution_count": 777,
   "id": "034a8196",
   "metadata": {},
   "outputs": [
    {
     "data": {
      "image/png": "[encoded data removed]",
      "text/plain": [
       "<Figure size 576x432 with 1 Axes>"
      ]
     },
     "metadata": {
      "needs_background": "light"
     },
     "output_type": "display_data"
    }
   ],
   "source": [
    "plt.figure(figsize=(8, 6))\n",
    "models = Best_Model['Model']\n",
    "rmse = Best_Model['RMSE']\n",
    "plt.barh(models, rmse)\n",
    "plt.xlabel('RMSE')\n",
    "plt.ylabel('Model')\n",
    "plt.title('RMSE for Different Machine Learning Models')\n",
    "plt.show()"
   ]
  },
  {
   "cell_type": "markdown",
   "id": "38d75537",
   "metadata": {},
   "source": [
    "#### Calibration Curve (Reliability Curves) \n",
    "The calibration curve is useful for evaluating the performance of different models and determining whether threshold value for choosing class label leads to model overfitting or underfitting. The points in various model lines that are above the dashed line have overfitted, while the points below the dashed line have underfitted. We need a model in which the majority of the points are along the dashed line."
   ]
  },
  {
   "cell_type": "code",
   "execution_count": 778,
   "id": "8c457704",
   "metadata": {
    "scrolled": true
   },
   "outputs": [],
   "source": [
    "pred_list = [preds_RF, preds_GBR, preds_SVR, preds_DT, preds_LR, preds_KNN, preds_Lasso,\\\n",
    "             preds_ridge, preds_Elastic, preds_logreg]\n",
    "clf_names = ['RandomForestRegressor', 'GradientBoostingRegressor', 'SVR', 'DecisionTreeRegressor',\\\n",
    "             'Linear Regressor', 'KNN Regressor', 'Lasso Regressor', 'Ridge Regressor',\\\n",
    "             'ElasticNetRegressor', 'LogisticRegressor']"
   ]
  },
  {
   "cell_type": "code",
   "execution_count": 782,
   "id": "2a8d835b",
   "metadata": {},
   "outputs": [
    {
     "name": "stdout",
     "output_type": "stream",
     "text": [
      "RandomForestRegressor: min=0.0, max=1.0\n",
      "GradientBoostingRegressor: min=0.0, max=1.0\n",
      "SVR: min=0.0, max=0.9999999999999999\n",
      "DecisionTreeRegressor: min=0.0, max=1.0\n",
      "Linear Regressor: min=0.0, max=0.9999999999999999\n",
      "KNN Regressor: min=0.0, max=1.0\n",
      "Lasso Regressor: min=0.0, max=0.0\n",
      "Ridge Regressor: min=0.0, max=0.9999999999999999\n",
      "ElasticNetRegressor: min=0.0, max=1.0\n",
      "LogisticRegressor: min=0.0, max=1.0\n"
     ]
    }
   ],
   "source": [
    "# Scaling the predicted probabilities to be between 0 and 1\n",
    "scaler = MinMaxScaler()\n",
    "pred_list_scaled = [scaler.fit_transform(np.reshape(pred, (-1,1))) for pred in pred_list]\n",
    "\n",
    "for i, pred in enumerate(pred_list_scaled):\n",
    "    print(f\"{clf_names[i]}: min={pred.min()}, max={pred.max()}\")"
   ]
  },
  {
   "cell_type": "markdown",
   "id": "9fb4dfb5",
   "metadata": {},
   "source": [
    "##### Computing Calibration Curve of each Model"
   ]
  },
  {
   "cell_type": "code",
   "execution_count": 781,
   "id": "d423dbd8",
   "metadata": {
    "scrolled": false
   },
   "outputs": [
    {
     "data": {
      "image/png": "[encoded data removed]",
      "text/plain": [
       "<Figure size 1080x720 with 1 Axes>"
      ]
     },
     "metadata": {
      "needs_background": "light"
     },
     "output_type": "display_data"
    }
   ],
   "source": [
    "fig, ax = plt.subplots(figsize=(15,10))\n",
    "for i, pred in enumerate(pred_list_scaled):\n",
    "    frac_pos, mean_pred = calibration_curve(y_test, pred, n_bins=15)\n",
    "    ax.plot(mean_pred, frac_pos, label=clf_names[i], marker='o')\n",
    "\n",
    "# Add perfectly calibrated line\n",
    "ax.plot([0, 1], [0, 1], linestyle='--', color='black', label='Perfectly calibrated')\n",
    "\n",
    "# Set plot parameters\n",
    "ax.set_xlabel('Mean predicted value')\n",
    "ax.set_ylabel('Fraction of positives')\n",
    "ax.set_ylim([-0.05, 1.05])\n",
    "ax.legend()\n",
    "ax.set_title('Calibration curves')\n",
    "\n",
    "plt.show()"
   ]
  },
  {
   "cell_type": "markdown",
   "id": "f7e105c6",
   "metadata": {},
   "source": [
    "- From the plot of calibration curve above, it is observed that Decision Tree Regressor have points aligning with the perfectly calibrated dashed line. Moreover, Decision Tree Regressor has the least error compared with the other Models, which makes it the best performing model."
   ]
  }
 ],
 "metadata": {
  "kernelspec": {
   "display_name": "Python 3 (ipykernel)",
   "language": "python",
   "name": "python3"
  },
  "language_info": {
   "codemirror_mode": {
    "name": "ipython",
    "version": 3
   },
   "file_extension": ".py",
   "mimetype": "text/x-python",
   "name": "python",
   "nbconvert_exporter": "python",
   "pygments_lexer": "ipython3",
   "version": "3.9.12"
  }
 },
 "nbformat": 4,
 "nbformat_minor": 5
}
